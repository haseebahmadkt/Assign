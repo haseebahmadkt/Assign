{
 "cells": [
  {
   "cell_type": "markdown",
   "metadata": {},
   "source": [
    "# 1. Calculate Area of a Circle"
   ]
  },
  {
   "cell_type": "code",
   "execution_count": 2,
   "metadata": {
    "scrolled": true
   },
   "outputs": [
    {
     "name": "stdout",
     "output_type": "stream",
     "text": [
      "Enter Radius:0.5\n",
      "Area of Circle By Radius 0.5 is: 0.79\n"
     ]
    }
   ],
   "source": [
    "r = float(input(\"Enter Radius:\"))\n",
    "area = 3.14*r*r\n",
    "print(\"Area of Circle By Radius\",r,\"is:\",round(area,2))"
   ]
  },
  {
   "cell_type": "markdown",
   "metadata": {},
   "source": [
    "# 2. Check Number either positive, negative or zero"
   ]
  },
  {
   "cell_type": "code",
   "execution_count": 6,
   "metadata": {},
   "outputs": [
    {
     "name": "stdout",
     "output_type": "stream",
     "text": [
      "Enter Number:-5\n",
      "Number Entered is Negative\n"
     ]
    }
   ],
   "source": [
    "num = int(input(\"Enter Number:\"))\n",
    "if num > 0 :\n",
    "    print(\"Number Entered is Positive\")\n",
    "elif num < 0 :\n",
    "    print(\"Number Entered is Negative\")\n",
    "else :\n",
    "    print(\"Zero Entered\")"
   ]
  },
  {
   "cell_type": "markdown",
   "metadata": {},
   "source": [
    "# 3. Divisibility Check of two numbers"
   ]
  },
  {
   "cell_type": "code",
   "execution_count": 9,
   "metadata": {},
   "outputs": [
    {
     "name": "stdout",
     "output_type": "stream",
     "text": [
      "Enter Numerator2\n",
      "Enter Denominator2\n",
      "2  is Completely Divisible By  2\n"
     ]
    }
   ],
   "source": [
    "num1 = int(input(\"Enter Numerator\"))\n",
    "num2 = int(input(\"Enter Denominator\"))\n",
    "res = num1 % num2\n",
    "if res == 0 :\n",
    "    print(num1,\" is Completely Divisible By \",num2)\n",
    "else :\n",
    "    print(num1,\" is Not Completely Divisible By \",num2)"
   ]
  },
  {
   "cell_type": "markdown",
   "metadata": {},
   "source": [
    "# 4. Days Calculator"
   ]
  },
  {
   "cell_type": "code",
   "execution_count": 13,
   "metadata": {},
   "outputs": [
    {
     "name": "stdout",
     "output_type": "stream",
     "text": [
      "Enter First Date In Format dd/mm/yyyy: 2/2/2012\n",
      "Enter Second Date In Format dd/mm/yyyy: 2/3/2012\n",
      "There are 29  Days Between  02/02/2012  And  02/03/2012\n"
     ]
    }
   ],
   "source": [
    "import datetime\n",
    "date1 = datetime.datetime.strptime(input('Enter First Date In Format dd/mm/yyyy: '), '%d/%m/%Y')\n",
    "date2 = datetime.datetime.strptime(input('Enter Second Date In Format dd/mm/yyyy: '), '%d/%m/%Y')\n",
    "res = date2 - date1\n",
    "print(\"There are\",res.days,\" Days Between \",date1.strftime('%d/%m/%Y'),\" And \",date2.strftime('%d/%m/%Y'))"
   ]
  },
  {
   "cell_type": "markdown",
   "metadata": {},
   "source": [
    "# 5. Calculate Volume of a sphere"
   ]
  },
  {
   "cell_type": "code",
   "execution_count": 14,
   "metadata": {},
   "outputs": [
    {
     "name": "stdout",
     "output_type": "stream",
     "text": [
      "Enter Radius:1\n",
      "Volumeb of Sphere By Radius 1.0  is: 4.19\n"
     ]
    }
   ],
   "source": [
    "r = float(input(\"Enter Radius:\"))\n",
    "vol = 4/3*3.14*r*r*r\n",
    "print(\"Volumeb of Sphere By Radius\",r,\" is:\",round(vol,2))"
   ]
  },
  {
   "cell_type": "markdown",
   "metadata": {},
   "source": [
    "# 6. Copy string n times"
   ]
  },
  {
   "cell_type": "code",
   "execution_count": 15,
   "metadata": {},
   "outputs": [
    {
     "name": "stdout",
     "output_type": "stream",
     "text": [
      "Enter String:Hello World\n",
      "How Many Copies of String You Need:3\n",
      "3  Copies of  Hello World   Are  Hello World Hello World Hello World \n"
     ]
    }
   ],
   "source": [
    "string = str(input(\"Enter String:\"))\n",
    "num = int(input(\"How Many Copies of String You Need:\"))\n",
    "string = string + \" \"\n",
    "if num > 0 :\n",
    "    print(num,\" Copies of \",string,\" Are \",num*string)\n",
    "else :\n",
    "    print(\"Negative Number or Zero Entered\")"
   ]
  },
  {
   "cell_type": "markdown",
   "metadata": {},
   "source": [
    "# 7. Check if number is Even or Odd"
   ]
  },
  {
   "cell_type": "code",
   "execution_count": 18,
   "metadata": {},
   "outputs": [
    {
     "name": "stdout",
     "output_type": "stream",
     "text": [
      "Enter Number:1\n",
      "1 is Odd\n"
     ]
    }
   ],
   "source": [
    "num = int(input(\"Enter Number:\"))\n",
    "if num % 2 == 0 :\n",
    "    print(num,\"is Even\")\n",
    "else :\n",
    "    print(num,\"is Odd\")"
   ]
  },
  {
   "cell_type": "markdown",
   "metadata": {},
   "source": [
    "# 8. Vowel Tester"
   ]
  },
  {
   "cell_type": "code",
   "execution_count": 22,
   "metadata": {},
   "outputs": [
    {
     "name": "stdout",
     "output_type": "stream",
     "text": [
      "Enter Character:S\n",
      "s is not Vowel\n"
     ]
    }
   ],
   "source": [
    "list = ['a','e','i','o','u']\n",
    "string = str(input(\"Enter Character:\"))\n",
    "string = string.lower()\n",
    "for l in list :\n",
    "    if l == string :\n",
    "        print(string,\"is Vowel\")\n",
    "        break\n",
    "    else :\n",
    "        print(string,\"is not Vowel\")\n",
    "        break"
   ]
  },
  {
   "cell_type": "markdown",
   "metadata": {},
   "source": [
    "# 9. Triangle area"
   ]
  },
  {
   "cell_type": "code",
   "execution_count": 24,
   "metadata": {},
   "outputs": [
    {
     "name": "stdout",
     "output_type": "stream",
     "text": [
      "Enter magnitude of Triangle Base:4\n",
      "Enter magnitude of Triangle Height:4\n",
      "Area of Triangle With Nase 4 And Height 4 is: 8.0\n"
     ]
    }
   ],
   "source": [
    "b = int(input(\"Enter magnitude of Triangle Base:\"))\n",
    "h = int(input(\"Enter magnitude of Triangle Height:\"))\n",
    "res = 1 / 2 * b * h\n",
    "print(\"Area of Triangle With Nase\",b,\"And Height\",h,\"is:\",res)"
   ]
  },
  {
   "cell_type": "markdown",
   "metadata": {},
   "source": [
    "# 10. Calculate Interest"
   ]
  },
  {
   "cell_type": "code",
   "execution_count": 27,
   "metadata": {},
   "outputs": [
    {
     "name": "stdout",
     "output_type": "stream",
     "text": [
      "Enter Principal Amount:10000\n",
      "Enter Rate of Interest in %:0.1\n",
      "Enter Number of Years for Investment:5\n",
      "After 5 Years Your Principal Amount 10000 Over An Interest Rate of 0.1 Will Be 10050.0\n"
     ]
    }
   ],
   "source": [
    "p = int(input(\"Enter Principal Amount:\"))\n",
    "i = float(input(\"Enter Rate of Interest in %:\"))\n",
    "y = int(input(\"Enter Number of Years for Investment:\"))\n",
    "res = p * i / 100 * y + p\n",
    "print(\"After\",y,\"Years Your Principal Amount\",p,\"Over An Interest Rate of\",i,\"Will Be\",res)"
   ]
  },
  {
   "cell_type": "markdown",
   "metadata": {},
   "source": [
    "# 11. Euclidean distance"
   ]
  },
  {
   "cell_type": "code",
   "execution_count": 1,
   "metadata": {},
   "outputs": [
    {
     "name": "stdout",
     "output_type": "stream",
     "text": [
      "Enter Co-ordinate for x1:2\n",
      "Enter Co-ordinate for x2:4\n",
      "Enter Co-ordinate for y1:4\n",
      "Enter Co-ordinate for y2:4\n",
      "Distance between points ( 2.0 , 4.0 ) and ( 4.0 , 4.0 ) is: 2.0\n"
     ]
    }
   ],
   "source": [
    "from scipy.spatial import distance\n",
    "x1 = float(input(\"Enter Co-ordinate for x1:\"))\n",
    "x2 = float(input(\"Enter Co-ordinate for x2:\"))\n",
    "y1 = float(input(\"Enter Co-ordinate for y1:\"))\n",
    "y2 = float(input(\"Enter Co-ordinate for y2:\"))\n",
    "x = (x1,x2)\n",
    "y = (y1,y2)\n",
    "res = distance.euclidean(x,y)\n",
    "print(\"Distance between points (\",x1,\",\",x2,\") and (\",y1,\",\",y2,\") is:\",res)"
   ]
  },
  {
   "cell_type": "markdown",
   "metadata": {},
   "source": [
    "# 12. Feet to Centimeter Converter"
   ]
  },
  {
   "cell_type": "code",
   "execution_count": 3,
   "metadata": {},
   "outputs": [
    {
     "name": "stdout",
     "output_type": "stream",
     "text": [
      "Enter Height in Feet:5\n",
      "There Are 152.4 cm In 5.0 feet\n"
     ]
    }
   ],
   "source": [
    "f = float(input(\"Enter Height in Feet:\"))\n",
    "res = 30.48 * f\n",
    "print(\"There Are\",res,\"cm In\",f,\"feet\")"
   ]
  },
  {
   "cell_type": "markdown",
   "metadata": {},
   "source": [
    "# 13. BMI Calculator"
   ]
  },
  {
   "cell_type": "code",
   "execution_count": 4,
   "metadata": {},
   "outputs": [
    {
     "name": "stdout",
     "output_type": "stream",
     "text": [
      "Enter Height in CM:180\n",
      "Enter Weight in KG:75\n",
      "Your BMI is 23.15\n"
     ]
    }
   ],
   "source": [
    "h = float(input(\"Enter Height in CM:\"))\n",
    "w = float(input(\"Enter Weight in KG:\"))\n",
    "res = w / (h / 100) ** 2\n",
    "print(\"Your BMI is\",round(res,2))"
   ]
  },
  {
   "cell_type": "markdown",
   "metadata": {},
   "source": [
    "# 14. Sum of n Positive Integers"
   ]
  },
  {
   "cell_type": "code",
   "execution_count": 2,
   "metadata": {},
   "outputs": [
    {
     "name": "stdout",
     "output_type": "stream",
     "text": [
      "Enter Value Of n: 11\n",
      "Sum Of n Positive Integers Till 11 Is 55\n"
     ]
    }
   ],
   "source": [
    "a = int(input(\"Enter Value Of n: \"))\n",
    "b = 0\n",
    "for c in range(1,a,1):\n",
    "    b = b+c\n",
    "    \n",
    "print(\"Sum Of n Positive Integers Till\",a,\"Is\",b)\n",
    "    "
   ]
  },
  {
   "cell_type": "markdown",
   "metadata": {},
   "source": [
    "# 15. Digits Sum of a Number"
   ]
  },
  {
   "cell_type": "code",
   "execution_count": 3,
   "metadata": {},
   "outputs": [
    {
     "name": "stdout",
     "output_type": "stream",
     "text": [
      "Enter a Number:11\n",
      "Digital Sum of 11 is: 2\n"
     ]
    }
   ],
   "source": [
    "num = int(input(\"Enter a Number:\"))\n",
    "res = 0\n",
    "n = str(num)\n",
    "for n2 in n :\n",
    "    res += int(n2)\n",
    "    \n",
    "print(\"Digital Sum of\",num,\"is:\",res)\n",
    "    "
   ]
  },
  {
   "cell_type": "markdown",
   "metadata": {},
   "source": [
    "# 16. Decimal to Binary Converter"
   ]
  },
  {
   "cell_type": "code",
   "execution_count": 4,
   "metadata": {},
   "outputs": [
    {
     "name": "stdout",
     "output_type": "stream",
     "text": [
      "Enter A Decimal Number:5\n",
      "Binary Reputation of 5 is: 0b101\n"
     ]
    }
   ],
   "source": [
    "num = int(input(\"Enter A Decimal Number:\"))\n",
    "print(\"Binary Reputation of\",num,\"is:\",bin(num))\n"
   ]
  },
  {
   "cell_type": "markdown",
   "metadata": {},
   "source": [
    "# 17. Binary to Decimal Converter"
   ]
  },
  {
   "cell_type": "code",
   "execution_count": 5,
   "metadata": {
    "scrolled": true
   },
   "outputs": [
    {
     "name": "stdout",
     "output_type": "stream",
     "text": [
      "Enter A Binary Number:101\n",
      "Decimal Representation of 101 is: 5\n"
     ]
    }
   ],
   "source": [
    "num = input(\"Enter A Binary Number:\")\n",
    "print(\"Decimal Representation of\",num,\"is:\",int(num,2))\n"
   ]
  },
  {
   "cell_type": "markdown",
   "metadata": {},
   "source": [
    "# 18. Vowel and Consonants Counter"
   ]
  },
  {
   "cell_type": "code",
   "execution_count": 6,
   "metadata": {},
   "outputs": [
    {
     "name": "stdout",
     "output_type": "stream",
     "text": [
      "Enter Text:QuickBrownFoxJumpsovertheDog\n",
      "Vowels: 9 \n",
      "Consonants: 19\n"
     ]
    }
   ],
   "source": [
    "text = str(input(\"Enter Text:\"))\n",
    "text = text.lower()\n",
    "v = 0\n",
    "c = 0\n",
    "for t in text :\n",
    "    if t == 'a' or t == 'e' or t == 'i' or t == 'o' or t == 'u' :\n",
    "        v+=1\n",
    "    else :\n",
    "        c+=1\n",
    "print(\"Vowels:\",v,\"\\nConsonants:\",c)"
   ]
  },
  {
   "cell_type": "markdown",
   "metadata": {},
   "source": [
    "# 19. PALINDROME TESTER"
   ]
  },
  {
   "cell_type": "code",
   "execution_count": 9,
   "metadata": {},
   "outputs": [
    {
     "name": "stdout",
     "output_type": "stream",
     "text": [
      "Enter Text:Eye\n",
      "Text Eye Is Palindrome\n"
     ]
    }
   ],
   "source": [
    "text = str(input(\"Enter Text:\"))\n",
    "textc = text\n",
    "text = text.casefold()\n",
    "text2 = reversed(text)\n",
    "if list(text) == list(text2):\n",
    "    print(\"Text\",textc,\"Is Palindrome\")\n",
    "else:\n",
    "    print(\"Text\",textc,\"Is Not Palindrome\")\n",
    "    "
   ]
  },
  {
   "cell_type": "markdown",
   "metadata": {},
   "source": [
    "# 20. Count Alphabets, Numbers and Special Characters"
   ]
  },
  {
   "cell_type": "code",
   "execution_count": 10,
   "metadata": {},
   "outputs": [
    {
     "name": "stdout",
     "output_type": "stream",
     "text": [
      "Enter Text:asd ASD 111 @#$\n",
      "Alphabets: 6 \n",
      "Numbers: 3 \n",
      "Spaces: 3 \n",
      "Special Characters: 3\n"
     ]
    }
   ],
   "source": [
    "text = input(\"Enter Text:\")\n",
    "a = d = s = s2 = 0\n",
    "for t in text:\n",
    "    if t.isalpha():\n",
    "        a+=1\n",
    "    elif t.isdigit():\n",
    "        d+=1\n",
    "    elif t.isspace():\n",
    "        s+=1\n",
    "    else:\n",
    "        s2+=1\n",
    "print(\"Alphabets:\",a,\"\\nNumbers:\",d,\"\\nSpaces:\",s,\"\\nSpecial Characters:\",s2)"
   ]
  },
  {
   "cell_type": "markdown",
   "metadata": {},
   "source": [
    "# 21. Write a Python program to construct Star pattern."
   ]
  },
  {
   "cell_type": "code",
   "execution_count": 11,
   "metadata": {},
   "outputs": [
    {
     "name": "stdout",
     "output_type": "stream",
     "text": [
      "*\n",
      "**\n",
      "***\n",
      "****\n",
      "*****\n",
      "****\n",
      "***\n",
      "**\n",
      "*\n"
     ]
    }
   ],
   "source": [
    "num = 1 \n",
    "while num < 6 :\n",
    "    print(\"*\"*num)\n",
    "    num += 1\n",
    "num = 4\n",
    "while num > 0 :\n",
    "    print(\"*\"*num)\n",
    "    num -= 1"
   ]
  },
  {
   "cell_type": "markdown",
   "metadata": {},
   "source": [
    "# 22. Write a Python program to construct number pattern."
   ]
  },
  {
   "cell_type": "code",
   "execution_count": 12,
   "metadata": {},
   "outputs": [
    {
     "name": "stdout",
     "output_type": "stream",
     "text": [
      "1 \n",
      "\n",
      "1 2 \n",
      "\n",
      "1 2 3 \n",
      "\n",
      "1 2 3 4 \n",
      "\n",
      "1 2 3 4 5 \n",
      "\n",
      "1 2 3 4 \n",
      "\n",
      "1 2 3 \n",
      "\n",
      "1 2 \n",
      "\n",
      "1 \n",
      "\n"
     ]
    }
   ],
   "source": [
    "for a in range(1,6):\n",
    "    for b in range(1,a+1):\n",
    "        print(b,end=\" \")\n",
    "    print(\"\\n\")\n",
    "for a in range(5,1,-1):\n",
    "    for b in range(a,1,-1):\n",
    "        print((a+1)-b,end=\" \")\n",
    "    print(\"\\n\")\n"
   ]
  },
  {
   "cell_type": "markdown",
   "metadata": {},
   "source": [
    "# 23. Write a Python program to construct number pattern (2) ."
   ]
  },
  {
   "cell_type": "code",
   "execution_count": 13,
   "metadata": {},
   "outputs": [
    {
     "name": "stdout",
     "output_type": "stream",
     "text": [
      "\n",
      "\n",
      "1 \n",
      "\n",
      "2 2 \n",
      "\n",
      "3 3 3 \n",
      "\n",
      "4 4 4 4 \n",
      "\n",
      "5 5 5 5 5 \n",
      "\n",
      "6 6 6 6 6 6 \n",
      "\n",
      "7 7 7 7 7 7 7 \n",
      "\n",
      "8 8 8 8 8 8 8 8 \n",
      "\n",
      "9 9 9 9 9 9 9 9 9 \n",
      "\n"
     ]
    }
   ],
   "source": [
    "for a in range(10):\n",
    "    for b in range(a):\n",
    "        print(a,end=\" \")\n",
    "    print(\"\\n\")"
   ]
  }
 ],
 "metadata": {
  "kernelspec": {
   "display_name": "Python 3",
   "language": "python",
   "name": "python3"
  }
 },
 "nbformat": 4,
 "nbformat_minor": 2
}
