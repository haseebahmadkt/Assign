{
 "cells": [
  {
   "cell_type": "markdown",
   "metadata": {},
   "source": [
    "# 1. Calculate Area of a Circle"
   ]
  },
  {
   "cell_type": "code",
   "execution_count": null,
   "metadata": {
    "scrolled": true
   },
   "outputs": [],
   "source": [
    "r = float(input(\"Enter Radius:\"))\n",
    "area = 3.14*r*r\n",
    "print(\"Area of Circle By Radius\",r,\" is:\",round(area,2))"
   ]
  },
  {
   "cell_type": "markdown",
   "metadata": {},
   "source": [
    "# 2. Check Number either positive, negative or zero"
   ]
  },
  {
   "cell_type": "code",
   "execution_count": null,
   "metadata": {},
   "outputs": [],
   "source": [
    "num = int(input(\"Enter Number:\"))\n",
    "if num > 0 :\n",
    "    print(\"Number Entered is Positive\")\n",
    "elif num < 0 :\n",
    "    print(\"Number Entered is Negative\")\n",
    "else :\n",
    "    print(\"Zero Entered\")"
   ]
  },
  {
   "cell_type": "markdown",
   "metadata": {},
   "source": [
    "# 3. Divisibility Check of two numbers"
   ]
  },
  {
   "cell_type": "code",
   "execution_count": null,
   "metadata": {},
   "outputs": [],
   "source": [
    "num1 = int(input(\"Enter Numerator\"))\n",
    "num2 = int(input(\"Enter Denominator\"))\n",
    "res = num1 % num2\n",
    "if res == 0 :\n",
    "    print(num1,\" is Completely Divisible By \",num2)\n",
    "else :\n",
    "    print(num1,\" is Not Completely Divisible By \",num2)"
   ]
  },
  {
   "cell_type": "markdown",
   "metadata": {},
   "source": [
    "# 4. Days Calculator"
   ]
  },
  {
   "cell_type": "code",
   "execution_count": null,
   "metadata": {},
   "outputs": [],
   "source": [
    "# import datetime\n",
    "date1 = datetime.datetime.strptime(input('Enter First Date In Format dd/mm/yyyy: '), '%d/%m/%Y')\n",
    "date2 = datetime.datetime.strptime(input('Enter Second Date In Format dd/mm/yyyy: '), '%d/%m/%Y')\n",
    "res = date2 - date1\n",
    "print(\"There are\",res.days,\" Days Between \",date1.strftime('%d/%m/%Y'),\" And \",date2.strftime('%d/%m/%Y'))"
   ]
  },
  {
   "cell_type": "markdown",
   "metadata": {},
   "source": [
    "# 5. Calculate Volume of a sphere"
   ]
  },
  {
   "cell_type": "code",
   "execution_count": null,
   "metadata": {},
   "outputs": [],
   "source": [
    "r = float(input(\"Enter Radius:\"))\n",
    "vol = 4/3*3.14*r*r*r\n",
    "print(\"Volumeb of Sphere By Radius\",r,\" is:\",round(vol,2))"
   ]
  },
  {
   "cell_type": "markdown",
   "metadata": {},
   "source": [
    "# 6. Copy string n times"
   ]
  },
  {
   "cell_type": "code",
   "execution_count": null,
   "metadata": {},
   "outputs": [],
   "source": [
    "string = str(input(\"Enter String:\"))\n",
    "num = int(input(\"How Many Copies of String You Need:\"))\n",
    "string = string + \" \"\n",
    "if num > 0 :\n",
    "    print(num,\" Copies of \",string,\" Are \",num*string)\n",
    "else :\n",
    "    print(\"Negative Number or Zero Entered\")"
   ]
  },
  {
   "cell_type": "markdown",
   "metadata": {},
   "source": [
    "# 7. Check if number is Even or Odd"
   ]
  },
  {
   "cell_type": "code",
   "execution_count": null,
   "metadata": {},
   "outputs": [],
   "source": [
    "num = int(input(\"Enter Number:\"))\n",
    "if num % 2 == 0 :\n",
    "    print(num,\"is Even\")\n",
    "else :\n",
    "    print(num,\"is Odd\")"
   ]
  },
  {
   "cell_type": "markdown",
   "metadata": {},
   "source": [
    "# 8. Vowel Tester"
   ]
  },
  {
   "cell_type": "code",
   "execution_count": null,
   "metadata": {},
   "outputs": [],
   "source": [
    "list = ['a','e','i','o','u']\n",
    "string = str(input(\"Enter Character:\"))\n",
    "string = string.lower()\n",
    "for l in list :\n",
    "    if l == string :\n",
    "        print(string,\"is Vowel\")\n",
    "        break\n",
    "    else :\n",
    "        print(string,\"is not Vowel\")\n",
    "        break"
   ]
  },
  {
   "cell_type": "markdown",
   "metadata": {},
   "source": [
    "# 9. Triangle area"
   ]
  },
  {
   "cell_type": "code",
   "execution_count": null,
   "metadata": {},
   "outputs": [],
   "source": [
    "b = int(input(\"Enter magnitude of Triangle Base:\"))\n",
    "h = int(input(\"Enter magnitude of Triangle Height:\"))\n",
    "res = 1 / 2 * b * h\n",
    "print(\"Area of Triangle With Nase\",b,\"And Height\",h,\"is:\",res)"
   ]
  },
  {
   "cell_type": "markdown",
   "metadata": {},
   "source": [
    "# 10. Calculate Interest"
   ]
  },
  {
   "cell_type": "code",
   "execution_count": null,
   "metadata": {},
   "outputs": [],
   "source": [
    "p = int(input(\"Enter Principal Amount:\"))\n",
    "i = float(input(\"Enter Rate of Interest in %:\"))\n",
    "y = int(input(\"Enter Number of Years for Investment:\"))\n",
    "res = p * i / 100 * y + p\n",
    "print(\"After\",y,\"Years Your Principal Amount\",p,\"Over An Interest Rate of\",i,\"Will Be\",res)"
   ]
  },
  {
   "cell_type": "markdown",
   "metadata": {},
   "source": [
    "# 11. Euclidean distance"
   ]
  },
  {
   "cell_type": "code",
   "execution_count": null,
   "metadata": {},
   "outputs": [],
   "source": [
    "from scipy.spatial import distance\n",
    "x1 = float(input(\"Enter Co-ordinate for x1:\"))\n",
    "x2 = float(input(\"Enter Co-ordinate for x2:\"))\n",
    "y1 = float(input(\"Enter Co-ordinate for y1:\"))\n",
    "y2 = float(input(\"Enter Co-ordinate for y2:\"))\n",
    "x = (x1,x2)\n",
    "y = (y1,y2)\n",
    "res = distance.euclidean(x,y)\n",
    "print(\"Distance between points (\",x1,\",\",x2,\") and (\",y1,\",\",y2,\") is:\",res)"
   ]
  },
  {
   "cell_type": "markdown",
   "metadata": {},
   "source": [
    "# 12. Feet to Centimeter Converter"
   ]
  },
  {
   "cell_type": "code",
   "execution_count": null,
   "metadata": {},
   "outputs": [],
   "source": [
    "f = float(input(\"Enter Height in Feet:\"))\n",
    "res = 30.48 * f\n",
    "print(\"There Are\",res,\"cm In\",f,\"feet\")"
   ]
  },
  {
   "cell_type": "markdown",
   "metadata": {},
   "source": [
    "# 13. BMI Calculator"
   ]
  },
  {
   "cell_type": "code",
   "execution_count": null,
   "metadata": {},
   "outputs": [],
   "source": [
    "h = float(input(\"Enter Height in CM:\"))\n",
    "w = float(input(\"Enter Weight in KG:\"))\n",
    "res = w / (h / 100) ** 2\n",
    "print(\"Your BMI is\",round(res,2))"
   ]
  },
  {
   "cell_type": "markdown",
   "metadata": {},
   "source": [
    "# 14. Sum of n Positive Integers"
   ]
  },
  {
   "cell_type": "code",
   "execution_count": null,
   "metadata": {},
   "outputs": [],
   "source": [
    "res = 0\n",
    "num = int(input(\"Enter Value of n:\"))\n",
    "while num < 1 :\n",
    "    print(\"asd\")\n",
    "    res = res + num\n",
    "    num - num - 1\n",
    "    \n",
    "print(\"Sum of n Positive Integers Till\",num,\"is:\",res)"
   ]
  },
  {
   "cell_type": "markdown",
   "metadata": {},
   "source": [
    "# 15. Digits Sum of a Number"
   ]
  },
  {
   "cell_type": "code",
   "execution_count": null,
   "metadata": {},
   "outputs": [],
   "source": [
    "num = int(input(\"Enter a Number:\"))\n",
    "res = 0\n",
    "n = str(num)\n",
    "for n2 in n :\n",
    "    res += int(n2)\n",
    "    \n",
    "print(\"Digital Sum of\",num,\"is:\",res)\n",
    "    "
   ]
  },
  {
   "cell_type": "markdown",
   "metadata": {},
   "source": [
    "# 16. Decimal to Binary Converter"
   ]
  },
  {
   "cell_type": "code",
   "execution_count": null,
   "metadata": {},
   "outputs": [],
   "source": [
    "num = int(input(\"Enter A Decimal Number:\"))\n",
    "print(\"Binary Reputation of\",num,\"is:\",bin(num))\n"
   ]
  },
  {
   "cell_type": "markdown",
   "metadata": {},
   "source": [
    "# 17. Binary to Decimal Converter"
   ]
  },
  {
   "cell_type": "code",
   "execution_count": null,
   "metadata": {
    "scrolled": true
   },
   "outputs": [],
   "source": [
    "num = input(\"Enter A Binary Number:\")\n",
    "print(\"Decimal Representation of\",num,\"is:\",int(num,2))\n"
   ]
  },
  {
   "cell_type": "markdown",
   "metadata": {},
   "source": [
    "# 18. Vowel and Consonants Counter"
   ]
  },
  {
   "cell_type": "code",
   "execution_count": null,
   "metadata": {},
   "outputs": [],
   "source": [
    "text = str(input(\"Enter Text:\"))\n",
    "text = text.lower()\n",
    "v = 0\n",
    "c = 0\n",
    "for t in text :\n",
    "    if t == 'a' or t == 'e' or t == 'i' or t == 'o' or t == 'u' :\n",
    "        v+=1\n",
    "    else :\n",
    "        c+=1\n",
    "print(\"Vowels:\",v,\"\\nConsonants:\",c)"
   ]
  },
  {
   "cell_type": "markdown",
   "metadata": {},
   "source": [
    "# 19. PALINDROME TESTER"
   ]
  },
  {
   "cell_type": "code",
   "execution_count": null,
   "metadata": {},
   "outputs": [],
   "source": [
    "text = str(input(\"Enter Text:\"))\n",
    "textc = text\n",
    "text = text.casefold()\n",
    "text2 = reversed(text)\n",
    "if list(text) == list(text2):\n",
    "    print(\"Text\",textc,\"Is Palindrome\")\n",
    "else:\n",
    "    print(\"Text\",textc,\"Is Not Palindrome\")\n",
    "    "
   ]
  },
  {
   "cell_type": "markdown",
   "metadata": {},
   "source": [
    "# 20. Count Alphabets, Numbers and Special Characters"
   ]
  },
  {
   "cell_type": "code",
   "execution_count": null,
   "metadata": {},
   "outputs": [],
   "source": [
    "text = input(\"Enter Text:\")\n",
    "a = d = s = s2 = 0\n",
    "for t in text:\n",
    "    if t.isalpha():\n",
    "        a+=1\n",
    "    elif t.isdigit():\n",
    "        d+=1\n",
    "    elif t.isspace():\n",
    "        s+=1\n",
    "    else:\n",
    "        s2+=1\n",
    "print(\"Alphabets:\",a,\"\\nNumbers:\",d,\"\\nSpaces:\",s,\"\\nSpecial Characters:\",s2)"
   ]
  },
  {
   "cell_type": "markdown",
   "metadata": {},
   "source": [
    "# 21. Write a Python program to construct Star pattern."
   ]
  },
  {
   "cell_type": "code",
   "execution_count": null,
   "metadata": {},
   "outputs": [],
   "source": [
    "num = 1 \n",
    "while num < 6 :\n",
    "    print(\"*\"*num)\n",
    "    num += 1\n",
    "num = 4\n",
    "while num > 0 :\n",
    "    print(\"*\"*num)\n",
    "    num -= 1"
   ]
  },
  {
   "cell_type": "markdown",
   "metadata": {},
   "source": [
    "# # 22. Write a Python program to construct number pattern."
   ]
  },
  {
   "cell_type": "code",
   "execution_count": 22,
   "metadata": {},
   "outputs": [
    {
     "name": "stdout",
     "output_type": "stream",
     "text": [
      "1\n",
      "\n",
      "\n",
      "1\n",
      "2\n",
      "\n",
      "\n",
      "1\n",
      "2\n",
      "3\n",
      "\n",
      "\n",
      "1\n",
      "2\n",
      "3\n",
      "4\n",
      "\n",
      "\n",
      "1\n",
      "2\n",
      "3\n",
      "4\n",
      "5\n",
      "\n",
      "\n",
      "1 2 3 4 \n",
      "\n",
      "1 2 3 \n",
      "\n",
      "1 2 \n",
      "\n",
      "1 \n",
      "\n"
     ]
    }
   ],
   "source": [
    "for a in range(1,6):\n",
    "    for b in range(1,a+1):\n",
    "        print(b,end=\" \")\n",
    "    print(\"\\n\")\n",
    "for a in range(5,1,-1):\n",
    "    for b in range(a,1,-1):\n",
    "        print((a+1)-b,end=\" \")\n",
    "    print(\"\\n\")\n"
   ]
  }
 ],
 "metadata": {
  "kernelspec": {
   "display_name": "Python 3",
   "language": "python",
   "name": "python3"
  },
  "language_info": {
   "codemirror_mode": {
    "name": "ipython",
    "version": 3
   },
   "file_extension": ".py",
   "mimetype": "text/x-python",
   "name": "python",
   "nbconvert_exporter": "python",
   "pygments_lexer": "ipython3",
   "version": "3.7.3"
  }
 },
 "nbformat": 4,
 "nbformat_minor": 2
}
